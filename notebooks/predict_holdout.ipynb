{
 "metadata": {
  "language_info": {
   "codemirror_mode": {
    "name": "ipython",
    "version": 3
   },
   "file_extension": ".py",
   "mimetype": "text/x-python",
   "name": "python",
   "nbconvert_exporter": "python",
   "pygments_lexer": "ipython3",
   "version": "3.6.9-final"
  },
  "orig_nbformat": 2,
  "kernelspec": {
   "name": "python3",
   "display_name": "Python 3"
  }
 },
 "nbformat": 4,
 "nbformat_minor": 2,
 "cells": [
  {
   "cell_type": "code",
   "execution_count": 99,
   "metadata": {},
   "outputs": [],
   "source": [
    "# import libraries\n",
    "import pandas as pd\n",
    "pd.options.display.max_columns = 50\n",
    "import numpy as np\n",
    "import matplotlib.pyplot as plt\n",
    "import seaborn as sns\n",
    "%matplotlib inline\n",
    "import sklearn\n",
    "from sklearn.preprocessing import StandardScaler, binarize\n",
    "from sklearn.neighbors import KNeighborsClassifier\n",
    "from sklearn.linear_model import LogisticRegression\n",
    "from sklearn.tree import DecisionTreeClassifier\n",
    "# add import for Decision Treees\n",
    "from sklearn.feature_selection import RFECV, SelectKBest, f_regression\n",
    "from sklearn.metrics import accuracy_score, precision_score, recall_score, f1_score, confusion_matrix, plot_confusion_matrix, roc_curve, auc, classification_report\n",
    "from sklearn.model_selection import train_test_split, cross_validate, cross_val_score, GridSearchCV\n",
    "import pickle"
   ]
  },
  {
   "source": [
    "### Step 1: Read in hold out data and best model"
   ],
   "cell_type": "markdown",
   "metadata": {}
  },
  {
   "cell_type": "code",
   "execution_count": 100,
   "metadata": {},
   "outputs": [
    {
     "output_type": "execute_result",
     "data": {
      "text/plain": [
       "           X1  X2  X3  X4  X5  X6  X7  X8  X9  X10  X11     X12     X13  \\\n",
       "5501   180000   2   2   1  44   0   0   0   0    0    0  161186  167080   \n",
       "28857  130000   2   2   1  48  -2  -2  -2  -2   -2   -2       0    1240   \n",
       "11272   60000   2   1   1  43  -1   3   2   0    0   -1     495     330   \n",
       "8206   240000   1   1   1  42   0   0   0   0    0    0   72339   91045   \n",
       "6362   100000   2   2   1  28   2   0   0   0    0    2   73073   74739   \n",
       "\n",
       "          X14     X15     X16     X17    X18   X19   X20   X21   X22    X23  \n",
       "5501   170788  174764  162667  166953  10000  8000  7000  6000  7000  10000  \n",
       "28857    1487    1279     749     440   1240  1487  1279   749   440    849  \n",
       "11272     495     330     165     340      0   330     0     0   340      0  \n",
       "8206    91027   51508   51127       0  20000  2213  1030  1023  6790  10893  \n",
       "6362    70844   63924   57326   59654   3500  3003  1910  2400  3300      0  "
      ],
      "text/html": "<div>\n<style scoped>\n    .dataframe tbody tr th:only-of-type {\n        vertical-align: middle;\n    }\n\n    .dataframe tbody tr th {\n        vertical-align: top;\n    }\n\n    .dataframe thead th {\n        text-align: right;\n    }\n</style>\n<table border=\"1\" class=\"dataframe\">\n  <thead>\n    <tr style=\"text-align: right;\">\n      <th></th>\n      <th>X1</th>\n      <th>X2</th>\n      <th>X3</th>\n      <th>X4</th>\n      <th>X5</th>\n      <th>X6</th>\n      <th>X7</th>\n      <th>X8</th>\n      <th>X9</th>\n      <th>X10</th>\n      <th>X11</th>\n      <th>X12</th>\n      <th>X13</th>\n      <th>X14</th>\n      <th>X15</th>\n      <th>X16</th>\n      <th>X17</th>\n      <th>X18</th>\n      <th>X19</th>\n      <th>X20</th>\n      <th>X21</th>\n      <th>X22</th>\n      <th>X23</th>\n    </tr>\n  </thead>\n  <tbody>\n    <tr>\n      <th>5501</th>\n      <td>180000</td>\n      <td>2</td>\n      <td>2</td>\n      <td>1</td>\n      <td>44</td>\n      <td>0</td>\n      <td>0</td>\n      <td>0</td>\n      <td>0</td>\n      <td>0</td>\n      <td>0</td>\n      <td>161186</td>\n      <td>167080</td>\n      <td>170788</td>\n      <td>174764</td>\n      <td>162667</td>\n      <td>166953</td>\n      <td>10000</td>\n      <td>8000</td>\n      <td>7000</td>\n      <td>6000</td>\n      <td>7000</td>\n      <td>10000</td>\n    </tr>\n    <tr>\n      <th>28857</th>\n      <td>130000</td>\n      <td>2</td>\n      <td>2</td>\n      <td>1</td>\n      <td>48</td>\n      <td>-2</td>\n      <td>-2</td>\n      <td>-2</td>\n      <td>-2</td>\n      <td>-2</td>\n      <td>-2</td>\n      <td>0</td>\n      <td>1240</td>\n      <td>1487</td>\n      <td>1279</td>\n      <td>749</td>\n      <td>440</td>\n      <td>1240</td>\n      <td>1487</td>\n      <td>1279</td>\n      <td>749</td>\n      <td>440</td>\n      <td>849</td>\n    </tr>\n    <tr>\n      <th>11272</th>\n      <td>60000</td>\n      <td>2</td>\n      <td>1</td>\n      <td>1</td>\n      <td>43</td>\n      <td>-1</td>\n      <td>3</td>\n      <td>2</td>\n      <td>0</td>\n      <td>0</td>\n      <td>-1</td>\n      <td>495</td>\n      <td>330</td>\n      <td>495</td>\n      <td>330</td>\n      <td>165</td>\n      <td>340</td>\n      <td>0</td>\n      <td>330</td>\n      <td>0</td>\n      <td>0</td>\n      <td>340</td>\n      <td>0</td>\n    </tr>\n    <tr>\n      <th>8206</th>\n      <td>240000</td>\n      <td>1</td>\n      <td>1</td>\n      <td>1</td>\n      <td>42</td>\n      <td>0</td>\n      <td>0</td>\n      <td>0</td>\n      <td>0</td>\n      <td>0</td>\n      <td>0</td>\n      <td>72339</td>\n      <td>91045</td>\n      <td>91027</td>\n      <td>51508</td>\n      <td>51127</td>\n      <td>0</td>\n      <td>20000</td>\n      <td>2213</td>\n      <td>1030</td>\n      <td>1023</td>\n      <td>6790</td>\n      <td>10893</td>\n    </tr>\n    <tr>\n      <th>6362</th>\n      <td>100000</td>\n      <td>2</td>\n      <td>2</td>\n      <td>1</td>\n      <td>28</td>\n      <td>2</td>\n      <td>0</td>\n      <td>0</td>\n      <td>0</td>\n      <td>0</td>\n      <td>2</td>\n      <td>73073</td>\n      <td>74739</td>\n      <td>70844</td>\n      <td>63924</td>\n      <td>57326</td>\n      <td>59654</td>\n      <td>3500</td>\n      <td>3003</td>\n      <td>1910</td>\n      <td>2400</td>\n      <td>3300</td>\n      <td>0</td>\n    </tr>\n  </tbody>\n</table>\n</div>"
     },
     "metadata": {},
     "execution_count": 100
    }
   ],
   "source": [
    "df = pd.read_csv('holdout_data.csv', index_col=0)\n",
    "df.head()"
   ]
  },
  {
   "cell_type": "code",
   "execution_count": 101,
   "metadata": {},
   "outputs": [],
   "source": [
    "final_model = pickle.load(open('final_model.pickle', 'rb'))"
   ]
  },
  {
   "cell_type": "code",
   "execution_count": 102,
   "metadata": {},
   "outputs": [],
   "source": [
    "final_scaler = pickle.load(open('final_scaler.pickle', 'rb'))"
   ]
  },
  {
   "source": [
    "### Step 2: Feature Engineering for holdout set"
   ],
   "cell_type": "markdown",
   "metadata": {}
  },
  {
   "cell_type": "code",
   "execution_count": 103,
   "metadata": {},
   "outputs": [],
   "source": [
    "# making dataframe mor readable by creating new column names\n",
    "rename_list = ['max_credit_given', 'gender', 'education', 'marital_status', 'age',\n",
    "'pay_status_sept', 'pay_status_aug', 'pay_status_july', 'pay_status_june', 'pay_status_may', 'pay_status_april', \n",
    "'bill_sept', 'bill_aug', 'bill_july', 'bill_june', 'bill_may', 'bill_april',\n",
    "'payment_sep', 'payment_aug', 'payments_jul', 'payment_jun', 'payment_may', 'payment_april', 'default']\n",
    "col_rename = dict(zip(df.columns,rename_list))\n",
    "df = df.rename(columns=col_rename)"
   ]
  },
  {
   "cell_type": "code",
   "execution_count": 104,
   "metadata": {},
   "outputs": [],
   "source": [
    "# drop the row if has text in it\n",
    "df.drop(df[df.gender == 'SEX'].index, inplace=True)"
   ]
  },
  {
   "cell_type": "code",
   "execution_count": 105,
   "metadata": {},
   "outputs": [],
   "source": [
    "# changing all values from objects to\n",
    "df = df.apply(pd.to_numeric, errors='coerce')"
   ]
  },
  {
   "cell_type": "code",
   "execution_count": 106,
   "metadata": {},
   "outputs": [],
   "source": [
    "# fixing 'education' column by putting unknown variables in 'other' category (4)\n",
    "fix_edu = (df.education == 5) | (df.education == 6) | (df.education == 0)\n",
    "df.loc[fix_edu, 'education'] = 4\n",
    "\n",
    "# fixing 'marital_status' column\n",
    "df.loc[df.marital_status == 0, 'marital_status'] = 3"
   ]
  },
  {
   "cell_type": "code",
   "execution_count": 107,
   "metadata": {},
   "outputs": [],
   "source": [
    "fix_status = (df.pay_status_sept == -2) | (df.pay_status_sept == 0)\n",
    "df.loc[fix_status, 'pay_status_sept'] = -1\n",
    "\n",
    "fix_status = (df.pay_status_aug == -2) | (df.pay_status_aug == 0)\n",
    "df.loc[fix_status, 'pay_status_aug'] = -1\n",
    "\n",
    "fix_status = (df.pay_status_july == -2) | (df.pay_status_july == 0)\n",
    "df.loc[fix_status, 'pay_status_july'] = -1\n",
    "\n",
    "fix_status = (df.pay_status_june == -2) | (df.pay_status_june == 0)\n",
    "df.loc[fix_status, 'pay_status_june'] = -1\n",
    "\n",
    "fix_status = (df.pay_status_may == -2) | (df.pay_status_may == 0)\n",
    "df.loc[fix_status, 'pay_status_may'] = -1\n",
    "\n",
    "fix_status = (df.pay_status_april == -2) | (df.pay_status_april == 0)\n",
    "df.loc[fix_status, 'pay_status_april'] = -1"
   ]
  },
  {
   "cell_type": "code",
   "execution_count": 108,
   "metadata": {},
   "outputs": [
    {
     "output_type": "execute_result",
     "data": {
      "text/plain": [
       "       max_credit_given  age  pay_status_sept  pay_status_aug  \\\n",
       "5501             180000   44               -1              -1   \n",
       "28857            130000   48               -1              -1   \n",
       "11272             60000   43               -1               3   \n",
       "8206             240000   42               -1              -1   \n",
       "6362             100000   28                2              -1   \n",
       "\n",
       "       pay_status_july  pay_status_june  pay_status_may  pay_status_april  \\\n",
       "5501                -1               -1              -1                -1   \n",
       "28857               -1               -1              -1                -1   \n",
       "11272                2               -1              -1                -1   \n",
       "8206                -1               -1              -1                -1   \n",
       "6362                -1               -1              -1                 2   \n",
       "\n",
       "       bill_sept  bill_aug  bill_july  bill_june  bill_may  bill_april  \\\n",
       "5501      161186    167080     170788     174764    162667      166953   \n",
       "28857          0      1240       1487       1279       749         440   \n",
       "11272        495       330        495        330       165         340   \n",
       "8206       72339     91045      91027      51508     51127           0   \n",
       "6362       73073     74739      70844      63924     57326       59654   \n",
       "\n",
       "       payment_sep  payment_aug  payments_jul  payment_jun  payment_may  \\\n",
       "5501         10000         8000          7000         6000         7000   \n",
       "28857         1240         1487          1279          749          440   \n",
       "11272            0          330             0            0          340   \n",
       "8206         20000         2213          1030         1023         6790   \n",
       "6362          3500         3003          1910         2400         3300   \n",
       "\n",
       "       payment_april  gender_1  gender_2  education_1  education_2  \\\n",
       "5501           10000         0         1            0            1   \n",
       "28857            849         0         1            0            1   \n",
       "11272              0         0         1            1            0   \n",
       "8206           10893         1         0            1            0   \n",
       "6362               0         0         1            0            1   \n",
       "\n",
       "       education_3  education_4  marital_status_1  marital_status_2  \\\n",
       "5501             0            0                 1                 0   \n",
       "28857            0            0                 1                 0   \n",
       "11272            0            0                 1                 0   \n",
       "8206             0            0                 1                 0   \n",
       "6362             0            0                 1                 0   \n",
       "\n",
       "       marital_status_3  \n",
       "5501                  0  \n",
       "28857                 0  \n",
       "11272                 0  \n",
       "8206                  0  \n",
       "6362                  0  "
      ],
      "text/html": "<div>\n<style scoped>\n    .dataframe tbody tr th:only-of-type {\n        vertical-align: middle;\n    }\n\n    .dataframe tbody tr th {\n        vertical-align: top;\n    }\n\n    .dataframe thead th {\n        text-align: right;\n    }\n</style>\n<table border=\"1\" class=\"dataframe\">\n  <thead>\n    <tr style=\"text-align: right;\">\n      <th></th>\n      <th>max_credit_given</th>\n      <th>age</th>\n      <th>pay_status_sept</th>\n      <th>pay_status_aug</th>\n      <th>pay_status_july</th>\n      <th>pay_status_june</th>\n      <th>pay_status_may</th>\n      <th>pay_status_april</th>\n      <th>bill_sept</th>\n      <th>bill_aug</th>\n      <th>bill_july</th>\n      <th>bill_june</th>\n      <th>bill_may</th>\n      <th>bill_april</th>\n      <th>payment_sep</th>\n      <th>payment_aug</th>\n      <th>payments_jul</th>\n      <th>payment_jun</th>\n      <th>payment_may</th>\n      <th>payment_april</th>\n      <th>gender_1</th>\n      <th>gender_2</th>\n      <th>education_1</th>\n      <th>education_2</th>\n      <th>education_3</th>\n      <th>education_4</th>\n      <th>marital_status_1</th>\n      <th>marital_status_2</th>\n      <th>marital_status_3</th>\n    </tr>\n  </thead>\n  <tbody>\n    <tr>\n      <th>5501</th>\n      <td>180000</td>\n      <td>44</td>\n      <td>-1</td>\n      <td>-1</td>\n      <td>-1</td>\n      <td>-1</td>\n      <td>-1</td>\n      <td>-1</td>\n      <td>161186</td>\n      <td>167080</td>\n      <td>170788</td>\n      <td>174764</td>\n      <td>162667</td>\n      <td>166953</td>\n      <td>10000</td>\n      <td>8000</td>\n      <td>7000</td>\n      <td>6000</td>\n      <td>7000</td>\n      <td>10000</td>\n      <td>0</td>\n      <td>1</td>\n      <td>0</td>\n      <td>1</td>\n      <td>0</td>\n      <td>0</td>\n      <td>1</td>\n      <td>0</td>\n      <td>0</td>\n    </tr>\n    <tr>\n      <th>28857</th>\n      <td>130000</td>\n      <td>48</td>\n      <td>-1</td>\n      <td>-1</td>\n      <td>-1</td>\n      <td>-1</td>\n      <td>-1</td>\n      <td>-1</td>\n      <td>0</td>\n      <td>1240</td>\n      <td>1487</td>\n      <td>1279</td>\n      <td>749</td>\n      <td>440</td>\n      <td>1240</td>\n      <td>1487</td>\n      <td>1279</td>\n      <td>749</td>\n      <td>440</td>\n      <td>849</td>\n      <td>0</td>\n      <td>1</td>\n      <td>0</td>\n      <td>1</td>\n      <td>0</td>\n      <td>0</td>\n      <td>1</td>\n      <td>0</td>\n      <td>0</td>\n    </tr>\n    <tr>\n      <th>11272</th>\n      <td>60000</td>\n      <td>43</td>\n      <td>-1</td>\n      <td>3</td>\n      <td>2</td>\n      <td>-1</td>\n      <td>-1</td>\n      <td>-1</td>\n      <td>495</td>\n      <td>330</td>\n      <td>495</td>\n      <td>330</td>\n      <td>165</td>\n      <td>340</td>\n      <td>0</td>\n      <td>330</td>\n      <td>0</td>\n      <td>0</td>\n      <td>340</td>\n      <td>0</td>\n      <td>0</td>\n      <td>1</td>\n      <td>1</td>\n      <td>0</td>\n      <td>0</td>\n      <td>0</td>\n      <td>1</td>\n      <td>0</td>\n      <td>0</td>\n    </tr>\n    <tr>\n      <th>8206</th>\n      <td>240000</td>\n      <td>42</td>\n      <td>-1</td>\n      <td>-1</td>\n      <td>-1</td>\n      <td>-1</td>\n      <td>-1</td>\n      <td>-1</td>\n      <td>72339</td>\n      <td>91045</td>\n      <td>91027</td>\n      <td>51508</td>\n      <td>51127</td>\n      <td>0</td>\n      <td>20000</td>\n      <td>2213</td>\n      <td>1030</td>\n      <td>1023</td>\n      <td>6790</td>\n      <td>10893</td>\n      <td>1</td>\n      <td>0</td>\n      <td>1</td>\n      <td>0</td>\n      <td>0</td>\n      <td>0</td>\n      <td>1</td>\n      <td>0</td>\n      <td>0</td>\n    </tr>\n    <tr>\n      <th>6362</th>\n      <td>100000</td>\n      <td>28</td>\n      <td>2</td>\n      <td>-1</td>\n      <td>-1</td>\n      <td>-1</td>\n      <td>-1</td>\n      <td>2</td>\n      <td>73073</td>\n      <td>74739</td>\n      <td>70844</td>\n      <td>63924</td>\n      <td>57326</td>\n      <td>59654</td>\n      <td>3500</td>\n      <td>3003</td>\n      <td>1910</td>\n      <td>2400</td>\n      <td>3300</td>\n      <td>0</td>\n      <td>0</td>\n      <td>1</td>\n      <td>0</td>\n      <td>1</td>\n      <td>0</td>\n      <td>0</td>\n      <td>1</td>\n      <td>0</td>\n      <td>0</td>\n    </tr>\n  </tbody>\n</table>\n</div>"
     },
     "metadata": {},
     "execution_count": 108
    }
   ],
   "source": [
    "df[['gender','education','marital_status']] = df[['gender','education','marital_status']].astype('object')\n",
    "\n",
    "# dummying\n",
    "df = pd.get_dummies(df)\n",
    "df.head()"
   ]
  },
  {
   "cell_type": "code",
   "execution_count": 109,
   "metadata": {},
   "outputs": [
    {
     "output_type": "execute_result",
     "data": {
      "text/plain": [
       "       max_credit_given  age  pay_status_sept  pay_status_aug  \\\n",
       "5501             180000   44               -1              -1   \n",
       "28857            130000   48               -1              -1   \n",
       "11272             60000   43               -1               3   \n",
       "8206             240000   42               -1              -1   \n",
       "6362             100000   28                2              -1   \n",
       "\n",
       "       pay_status_july  pay_status_june  pay_status_may  pay_status_april  \\\n",
       "5501                -1               -1              -1                -1   \n",
       "28857               -1               -1              -1                -1   \n",
       "11272                2               -1              -1                -1   \n",
       "8206                -1               -1              -1                -1   \n",
       "6362                -1               -1              -1                 2   \n",
       "\n",
       "       bill_sept  bill_aug  bill_july  bill_june  bill_may  bill_april  \\\n",
       "5501      161186    167080     170788     174764    162667      166953   \n",
       "28857          0      1240       1487       1279       749         440   \n",
       "11272        495       330        495        330       165         340   \n",
       "8206       72339     91045      91027      51508     51127           0   \n",
       "6362       73073     74739      70844      63924     57326       59654   \n",
       "\n",
       "       payment_sep  payment_aug  payments_jul  payment_jun  payment_may  \\\n",
       "5501         10000         8000          7000         6000         7000   \n",
       "28857         1240         1487          1279          749          440   \n",
       "11272            0          330             0            0          340   \n",
       "8206         20000         2213          1030         1023         6790   \n",
       "6362          3500         3003          1910         2400         3300   \n",
       "\n",
       "       payment_april  gender_1  gender_2  education_1  education_2  \\\n",
       "5501           10000         0         1            0            1   \n",
       "28857            849         0         1            0            1   \n",
       "11272              0         0         1            1            0   \n",
       "8206           10893         1         0            1            0   \n",
       "6362               0         0         1            0            1   \n",
       "\n",
       "       education_3  education_4  marital_status_1  marital_status_2  \\\n",
       "5501             0            0                 1                 0   \n",
       "28857            0            0                 1                 0   \n",
       "11272            0            0                 1                 0   \n",
       "8206             0            0                 1                 0   \n",
       "6362             0            0                 1                 0   \n",
       "\n",
       "       marital_status_3  \n",
       "5501                  0  \n",
       "28857                 0  \n",
       "11272                 0  \n",
       "8206                  0  \n",
       "6362                  0  "
      ],
      "text/html": "<div>\n<style scoped>\n    .dataframe tbody tr th:only-of-type {\n        vertical-align: middle;\n    }\n\n    .dataframe tbody tr th {\n        vertical-align: top;\n    }\n\n    .dataframe thead th {\n        text-align: right;\n    }\n</style>\n<table border=\"1\" class=\"dataframe\">\n  <thead>\n    <tr style=\"text-align: right;\">\n      <th></th>\n      <th>max_credit_given</th>\n      <th>age</th>\n      <th>pay_status_sept</th>\n      <th>pay_status_aug</th>\n      <th>pay_status_july</th>\n      <th>pay_status_june</th>\n      <th>pay_status_may</th>\n      <th>pay_status_april</th>\n      <th>bill_sept</th>\n      <th>bill_aug</th>\n      <th>bill_july</th>\n      <th>bill_june</th>\n      <th>bill_may</th>\n      <th>bill_april</th>\n      <th>payment_sep</th>\n      <th>payment_aug</th>\n      <th>payments_jul</th>\n      <th>payment_jun</th>\n      <th>payment_may</th>\n      <th>payment_april</th>\n      <th>gender_1</th>\n      <th>gender_2</th>\n      <th>education_1</th>\n      <th>education_2</th>\n      <th>education_3</th>\n      <th>education_4</th>\n      <th>marital_status_1</th>\n      <th>marital_status_2</th>\n      <th>marital_status_3</th>\n    </tr>\n  </thead>\n  <tbody>\n    <tr>\n      <th>5501</th>\n      <td>180000</td>\n      <td>44</td>\n      <td>-1</td>\n      <td>-1</td>\n      <td>-1</td>\n      <td>-1</td>\n      <td>-1</td>\n      <td>-1</td>\n      <td>161186</td>\n      <td>167080</td>\n      <td>170788</td>\n      <td>174764</td>\n      <td>162667</td>\n      <td>166953</td>\n      <td>10000</td>\n      <td>8000</td>\n      <td>7000</td>\n      <td>6000</td>\n      <td>7000</td>\n      <td>10000</td>\n      <td>0</td>\n      <td>1</td>\n      <td>0</td>\n      <td>1</td>\n      <td>0</td>\n      <td>0</td>\n      <td>1</td>\n      <td>0</td>\n      <td>0</td>\n    </tr>\n    <tr>\n      <th>28857</th>\n      <td>130000</td>\n      <td>48</td>\n      <td>-1</td>\n      <td>-1</td>\n      <td>-1</td>\n      <td>-1</td>\n      <td>-1</td>\n      <td>-1</td>\n      <td>0</td>\n      <td>1240</td>\n      <td>1487</td>\n      <td>1279</td>\n      <td>749</td>\n      <td>440</td>\n      <td>1240</td>\n      <td>1487</td>\n      <td>1279</td>\n      <td>749</td>\n      <td>440</td>\n      <td>849</td>\n      <td>0</td>\n      <td>1</td>\n      <td>0</td>\n      <td>1</td>\n      <td>0</td>\n      <td>0</td>\n      <td>1</td>\n      <td>0</td>\n      <td>0</td>\n    </tr>\n    <tr>\n      <th>11272</th>\n      <td>60000</td>\n      <td>43</td>\n      <td>-1</td>\n      <td>3</td>\n      <td>2</td>\n      <td>-1</td>\n      <td>-1</td>\n      <td>-1</td>\n      <td>495</td>\n      <td>330</td>\n      <td>495</td>\n      <td>330</td>\n      <td>165</td>\n      <td>340</td>\n      <td>0</td>\n      <td>330</td>\n      <td>0</td>\n      <td>0</td>\n      <td>340</td>\n      <td>0</td>\n      <td>0</td>\n      <td>1</td>\n      <td>1</td>\n      <td>0</td>\n      <td>0</td>\n      <td>0</td>\n      <td>1</td>\n      <td>0</td>\n      <td>0</td>\n    </tr>\n    <tr>\n      <th>8206</th>\n      <td>240000</td>\n      <td>42</td>\n      <td>-1</td>\n      <td>-1</td>\n      <td>-1</td>\n      <td>-1</td>\n      <td>-1</td>\n      <td>-1</td>\n      <td>72339</td>\n      <td>91045</td>\n      <td>91027</td>\n      <td>51508</td>\n      <td>51127</td>\n      <td>0</td>\n      <td>20000</td>\n      <td>2213</td>\n      <td>1030</td>\n      <td>1023</td>\n      <td>6790</td>\n      <td>10893</td>\n      <td>1</td>\n      <td>0</td>\n      <td>1</td>\n      <td>0</td>\n      <td>0</td>\n      <td>0</td>\n      <td>1</td>\n      <td>0</td>\n      <td>0</td>\n    </tr>\n    <tr>\n      <th>6362</th>\n      <td>100000</td>\n      <td>28</td>\n      <td>2</td>\n      <td>-1</td>\n      <td>-1</td>\n      <td>-1</td>\n      <td>-1</td>\n      <td>2</td>\n      <td>73073</td>\n      <td>74739</td>\n      <td>70844</td>\n      <td>63924</td>\n      <td>57326</td>\n      <td>59654</td>\n      <td>3500</td>\n      <td>3003</td>\n      <td>1910</td>\n      <td>2400</td>\n      <td>3300</td>\n      <td>0</td>\n      <td>0</td>\n      <td>1</td>\n      <td>0</td>\n      <td>1</td>\n      <td>0</td>\n      <td>0</td>\n      <td>1</td>\n      <td>0</td>\n      <td>0</td>\n    </tr>\n  </tbody>\n</table>\n</div>"
     },
     "metadata": {},
     "execution_count": 109
    }
   ],
   "source": [
    "df.head()"
   ]
  },
  {
   "source": [
    "### Step 3: Predict the holdout set"
   ],
   "cell_type": "markdown",
   "metadata": {}
  },
  {
   "cell_type": "code",
   "execution_count": 110,
   "metadata": {},
   "outputs": [],
   "source": [
    "# applying scaler\n",
    "df = final_scaler.transform(df)"
   ]
  },
  {
   "cell_type": "code",
   "execution_count": 111,
   "metadata": {},
   "outputs": [],
   "source": [
    "# features = df[['max_credit_given','gender','education',\t'marital_status','age',\t'pay_status_sept','pay_status_aug'\t'pay_status_july','pay_status_june','pay_status_may','pay_status_april','bill_sept','bill_aug','bill_july','bill_june','bill_may','bill_april','payment_sep','payment_aug','payments_jul','payment_jun','payment_may','payment_april]]"
   ]
  },
  {
   "cell_type": "code",
   "execution_count": 112,
   "metadata": {},
   "outputs": [],
   "source": [
    "# predicting on the cleaned up holdout dataframe\n",
    "\n",
    "final_prediction = final_model.predict(df)"
   ]
  },
  {
   "source": [
    "### Step 4: Export predictions as csv"
   ],
   "cell_type": "markdown",
   "metadata": {}
  },
  {
   "cell_type": "code",
   "execution_count": 113,
   "metadata": {},
   "outputs": [],
   "source": [
    "final_prediction = pd.DataFrame(final_prediction, columns=['predictions'])"
   ]
  },
  {
   "cell_type": "code",
   "execution_count": 114,
   "metadata": {},
   "outputs": [
    {
     "output_type": "execute_result",
     "data": {
      "text/plain": [
       "   predictions\n",
       "0            0\n",
       "1            0\n",
       "2            1\n",
       "3            0\n",
       "4            1"
      ],
      "text/html": "<div>\n<style scoped>\n    .dataframe tbody tr th:only-of-type {\n        vertical-align: middle;\n    }\n\n    .dataframe tbody tr th {\n        vertical-align: top;\n    }\n\n    .dataframe thead th {\n        text-align: right;\n    }\n</style>\n<table border=\"1\" class=\"dataframe\">\n  <thead>\n    <tr style=\"text-align: right;\">\n      <th></th>\n      <th>predictions</th>\n    </tr>\n  </thead>\n  <tbody>\n    <tr>\n      <th>0</th>\n      <td>0</td>\n    </tr>\n    <tr>\n      <th>1</th>\n      <td>0</td>\n    </tr>\n    <tr>\n      <th>2</th>\n      <td>1</td>\n    </tr>\n    <tr>\n      <th>3</th>\n      <td>0</td>\n    </tr>\n    <tr>\n      <th>4</th>\n      <td>1</td>\n    </tr>\n  </tbody>\n</table>\n</div>"
     },
     "metadata": {},
     "execution_count": 114
    }
   ],
   "source": [
    "final_prediction.head()"
   ]
  },
  {
   "cell_type": "code",
   "execution_count": 115,
   "metadata": {},
   "outputs": [],
   "source": [
    "final_prediction.to_csv('predictions_sidney_kung.csv')"
   ]
  },
  {
   "cell_type": "code",
   "execution_count": null,
   "metadata": {},
   "outputs": [],
   "source": []
  }
 ]
}